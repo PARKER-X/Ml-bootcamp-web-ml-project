{
 "cells": [
  {
   "cell_type": "code",
   "execution_count": 13,
   "id": "5eb9c7b5",
   "metadata": {
    "_cell_guid": "b1076dfc-b9ad-4769-8c92-a6c4dae69d19",
    "_uuid": "8f2839f25d086af736a60e9eeb907d3b93b6e0e5",
    "execution": {
     "iopub.execute_input": "2022-01-11T04:29:59.539419Z",
     "iopub.status.busy": "2022-01-11T04:29:59.533358Z",
     "iopub.status.idle": "2022-01-11T04:30:00.638000Z",
     "shell.execute_reply": "2022-01-11T04:30:00.638609Z",
     "shell.execute_reply.started": "2022-01-11T04:19:54.322356Z"
    },
    "papermill": {
     "duration": 1.136386,
     "end_time": "2022-01-11T04:30:00.638939",
     "exception": false,
     "start_time": "2022-01-11T04:29:59.502553",
     "status": "completed"
    },
    "tags": []
   },
   "outputs": [],
   "source": [
    "# This Python 3 environment comes with many helpful analytics libraries installed\n",
    "# It is defined by the kaggle/python Docker image: https://github.com/kaggle/docker-python\n",
    "# For example, here's several helpful packages to load\n",
    "\n",
    "import numpy as np # linear algebra\n",
    "import pandas as pd # data processing, CSV file I/O (e.g. pd.read_csv)\n",
    "import seaborn as sns\n",
    "import matplotlib.pyplot as plt\n",
    "\n",
    "# Input data files are available in the read-only \"../input/\" directory\n",
    "# For example, running this (by clicking run or pressing Shift+Enter) will list all files under the input directory\n",
    "\n",
    "import os\n",
    "for dirname, _, filenames in os.walk('/kaggle/input'):\n",
    "    for filename in filenames:\n",
    "        print(os.path.join(dirname, filename))\n",
    "\n",
    "# You can write up to 20GB to the current directory (/kaggle/working/) that gets preserved as output when you create a version using \"Save & Run All\" \n",
    "# You can also write temporary files to /kaggle/temp/, but they won't be saved outside of the current session"
   ]
  },
  {
   "cell_type": "code",
   "execution_count": 14,
   "id": "e111c798",
   "metadata": {
    "execution": {
     "iopub.execute_input": "2022-01-11T04:30:00.683222Z",
     "iopub.status.busy": "2022-01-11T04:30:00.682495Z",
     "iopub.status.idle": "2022-01-11T04:30:00.721508Z",
     "shell.execute_reply": "2022-01-11T04:30:00.720973Z",
     "shell.execute_reply.started": "2022-01-11T04:19:54.520411Z"
    },
    "papermill": {
     "duration": 0.062763,
     "end_time": "2022-01-11T04:30:00.721672",
     "exception": false,
     "start_time": "2022-01-11T04:30:00.658909",
     "status": "completed"
    },
    "tags": []
   },
   "outputs": [
    {
     "data": {
      "text/html": [
       "<div>\n",
       "<style scoped>\n",
       "    .dataframe tbody tr th:only-of-type {\n",
       "        vertical-align: middle;\n",
       "    }\n",
       "\n",
       "    .dataframe tbody tr th {\n",
       "        vertical-align: top;\n",
       "    }\n",
       "\n",
       "    .dataframe thead th {\n",
       "        text-align: right;\n",
       "    }\n",
       "</style>\n",
       "<table border=\"1\" class=\"dataframe\">\n",
       "  <thead>\n",
       "    <tr style=\"text-align: right;\">\n",
       "      <th></th>\n",
       "      <th>PassengerId</th>\n",
       "      <th>Survived</th>\n",
       "      <th>Pclass</th>\n",
       "      <th>Name</th>\n",
       "      <th>Sex</th>\n",
       "      <th>Age</th>\n",
       "      <th>SibSp</th>\n",
       "      <th>Parch</th>\n",
       "      <th>Ticket</th>\n",
       "      <th>Fare</th>\n",
       "      <th>Cabin</th>\n",
       "      <th>Embarked</th>\n",
       "    </tr>\n",
       "  </thead>\n",
       "  <tbody>\n",
       "    <tr>\n",
       "      <th>0</th>\n",
       "      <td>1</td>\n",
       "      <td>0</td>\n",
       "      <td>3</td>\n",
       "      <td>Braund, Mr. Owen Harris</td>\n",
       "      <td>male</td>\n",
       "      <td>22.0</td>\n",
       "      <td>1</td>\n",
       "      <td>0</td>\n",
       "      <td>A/5 21171</td>\n",
       "      <td>7.2500</td>\n",
       "      <td>NaN</td>\n",
       "      <td>S</td>\n",
       "    </tr>\n",
       "    <tr>\n",
       "      <th>1</th>\n",
       "      <td>2</td>\n",
       "      <td>1</td>\n",
       "      <td>1</td>\n",
       "      <td>Cumings, Mrs. John Bradley (Florence Briggs Th...</td>\n",
       "      <td>female</td>\n",
       "      <td>38.0</td>\n",
       "      <td>1</td>\n",
       "      <td>0</td>\n",
       "      <td>PC 17599</td>\n",
       "      <td>71.2833</td>\n",
       "      <td>C85</td>\n",
       "      <td>C</td>\n",
       "    </tr>\n",
       "    <tr>\n",
       "      <th>2</th>\n",
       "      <td>3</td>\n",
       "      <td>1</td>\n",
       "      <td>3</td>\n",
       "      <td>Heikkinen, Miss. Laina</td>\n",
       "      <td>female</td>\n",
       "      <td>26.0</td>\n",
       "      <td>0</td>\n",
       "      <td>0</td>\n",
       "      <td>STON/O2. 3101282</td>\n",
       "      <td>7.9250</td>\n",
       "      <td>NaN</td>\n",
       "      <td>S</td>\n",
       "    </tr>\n",
       "    <tr>\n",
       "      <th>3</th>\n",
       "      <td>4</td>\n",
       "      <td>1</td>\n",
       "      <td>1</td>\n",
       "      <td>Futrelle, Mrs. Jacques Heath (Lily May Peel)</td>\n",
       "      <td>female</td>\n",
       "      <td>35.0</td>\n",
       "      <td>1</td>\n",
       "      <td>0</td>\n",
       "      <td>113803</td>\n",
       "      <td>53.1000</td>\n",
       "      <td>C123</td>\n",
       "      <td>S</td>\n",
       "    </tr>\n",
       "    <tr>\n",
       "      <th>4</th>\n",
       "      <td>5</td>\n",
       "      <td>0</td>\n",
       "      <td>3</td>\n",
       "      <td>Allen, Mr. William Henry</td>\n",
       "      <td>male</td>\n",
       "      <td>35.0</td>\n",
       "      <td>0</td>\n",
       "      <td>0</td>\n",
       "      <td>373450</td>\n",
       "      <td>8.0500</td>\n",
       "      <td>NaN</td>\n",
       "      <td>S</td>\n",
       "    </tr>\n",
       "  </tbody>\n",
       "</table>\n",
       "</div>"
      ],
      "text/plain": [
       "   PassengerId  Survived  Pclass  \\\n",
       "0            1         0       3   \n",
       "1            2         1       1   \n",
       "2            3         1       3   \n",
       "3            4         1       1   \n",
       "4            5         0       3   \n",
       "\n",
       "                                                Name     Sex   Age  SibSp  \\\n",
       "0                            Braund, Mr. Owen Harris    male  22.0      1   \n",
       "1  Cumings, Mrs. John Bradley (Florence Briggs Th...  female  38.0      1   \n",
       "2                             Heikkinen, Miss. Laina  female  26.0      0   \n",
       "3       Futrelle, Mrs. Jacques Heath (Lily May Peel)  female  35.0      1   \n",
       "4                           Allen, Mr. William Henry    male  35.0      0   \n",
       "\n",
       "   Parch            Ticket     Fare Cabin Embarked  \n",
       "0      0         A/5 21171   7.2500   NaN        S  \n",
       "1      0          PC 17599  71.2833   C85        C  \n",
       "2      0  STON/O2. 3101282   7.9250   NaN        S  \n",
       "3      0            113803  53.1000  C123        S  \n",
       "4      0            373450   8.0500   NaN        S  "
      ]
     },
     "execution_count": 14,
     "metadata": {},
     "output_type": "execute_result"
    }
   ],
   "source": [
    "titanic_data = pd.read_csv(\"train.csv\")\n",
    "titanic_data.head()"
   ]
  },
  {
   "cell_type": "code",
   "execution_count": 15,
   "id": "37775ec0",
   "metadata": {
    "execution": {
     "iopub.execute_input": "2022-01-11T04:30:00.765411Z",
     "iopub.status.busy": "2022-01-11T04:30:00.764769Z",
     "iopub.status.idle": "2022-01-11T04:30:00.767246Z",
     "shell.execute_reply": "2022-01-11T04:30:00.766686Z",
     "shell.execute_reply.started": "2022-01-11T04:19:54.569364Z"
    },
    "papermill": {
     "duration": 0.025951,
     "end_time": "2022-01-11T04:30:00.767388",
     "exception": false,
     "start_time": "2022-01-11T04:30:00.741437",
     "status": "completed"
    },
    "tags": []
   },
   "outputs": [],
   "source": [
    "##Problems\n",
    "#Remove name ticket and cabin column and embarked\n",
    "#surived columns is prediction column\n",
    "#get dummies on sex column\n",
    "#change null values into median values"
   ]
  },
  {
   "cell_type": "code",
   "execution_count": 16,
   "id": "292d618d",
   "metadata": {
    "execution": {
     "iopub.execute_input": "2022-01-11T04:30:00.812876Z",
     "iopub.status.busy": "2022-01-11T04:30:00.810145Z",
     "iopub.status.idle": "2022-01-11T04:30:00.816634Z",
     "shell.execute_reply": "2022-01-11T04:30:00.815982Z",
     "shell.execute_reply.started": "2022-01-11T04:19:54.590211Z"
    },
    "papermill": {
     "duration": 0.029167,
     "end_time": "2022-01-11T04:30:00.816810",
     "exception": false,
     "start_time": "2022-01-11T04:30:00.787643",
     "status": "completed"
    },
    "tags": []
   },
   "outputs": [
    {
     "data": {
      "text/plain": [
       "Index(['PassengerId', 'Survived', 'Pclass', 'Name', 'Sex', 'Age', 'SibSp',\n",
       "       'Parch', 'Ticket', 'Fare', 'Cabin', 'Embarked'],\n",
       "      dtype='object')"
      ]
     },
     "execution_count": 16,
     "metadata": {},
     "output_type": "execute_result"
    }
   ],
   "source": [
    "titanic_data.columns"
   ]
  },
  {
   "cell_type": "code",
   "execution_count": 17,
   "id": "5c70fd8a",
   "metadata": {
    "execution": {
     "iopub.execute_input": "2022-01-11T04:30:00.872884Z",
     "iopub.status.busy": "2022-01-11T04:30:00.870787Z",
     "iopub.status.idle": "2022-01-11T04:30:00.884844Z",
     "shell.execute_reply": "2022-01-11T04:30:00.884283Z",
     "shell.execute_reply.started": "2022-01-11T04:19:54.599935Z"
    },
    "papermill": {
     "duration": 0.047744,
     "end_time": "2022-01-11T04:30:00.884994",
     "exception": false,
     "start_time": "2022-01-11T04:30:00.837250",
     "status": "completed"
    },
    "tags": []
   },
   "outputs": [
    {
     "name": "stdout",
     "output_type": "stream",
     "text": [
      "<class 'pandas.core.frame.DataFrame'>\n",
      "RangeIndex: 891 entries, 0 to 890\n",
      "Data columns (total 12 columns):\n",
      " #   Column       Non-Null Count  Dtype  \n",
      "---  ------       --------------  -----  \n",
      " 0   PassengerId  891 non-null    int64  \n",
      " 1   Survived     891 non-null    int64  \n",
      " 2   Pclass       891 non-null    int64  \n",
      " 3   Name         891 non-null    object \n",
      " 4   Sex          891 non-null    object \n",
      " 5   Age          714 non-null    float64\n",
      " 6   SibSp        891 non-null    int64  \n",
      " 7   Parch        891 non-null    int64  \n",
      " 8   Ticket       891 non-null    object \n",
      " 9   Fare         891 non-null    float64\n",
      " 10  Cabin        204 non-null    object \n",
      " 11  Embarked     889 non-null    object \n",
      "dtypes: float64(2), int64(5), object(5)\n",
      "memory usage: 83.7+ KB\n"
     ]
    }
   ],
   "source": [
    "titanic_data.info()"
   ]
  },
  {
   "cell_type": "code",
   "execution_count": 18,
   "id": "c9714561",
   "metadata": {
    "execution": {
     "iopub.execute_input": "2022-01-11T04:30:00.929617Z",
     "iopub.status.busy": "2022-01-11T04:30:00.928916Z",
     "iopub.status.idle": "2022-01-11T04:30:00.941144Z",
     "shell.execute_reply": "2022-01-11T04:30:00.941634Z",
     "shell.execute_reply.started": "2022-01-11T04:19:54.622072Z"
    },
    "papermill": {
     "duration": 0.036019,
     "end_time": "2022-01-11T04:30:00.941815",
     "exception": false,
     "start_time": "2022-01-11T04:30:00.905796",
     "status": "completed"
    },
    "tags": []
   },
   "outputs": [
    {
     "data": {
      "text/html": [
       "<div>\n",
       "<style scoped>\n",
       "    .dataframe tbody tr th:only-of-type {\n",
       "        vertical-align: middle;\n",
       "    }\n",
       "\n",
       "    .dataframe tbody tr th {\n",
       "        vertical-align: top;\n",
       "    }\n",
       "\n",
       "    .dataframe thead th {\n",
       "        text-align: right;\n",
       "    }\n",
       "</style>\n",
       "<table border=\"1\" class=\"dataframe\">\n",
       "  <thead>\n",
       "    <tr style=\"text-align: right;\">\n",
       "      <th></th>\n",
       "      <th>male</th>\n",
       "    </tr>\n",
       "  </thead>\n",
       "  <tbody>\n",
       "    <tr>\n",
       "      <th>0</th>\n",
       "      <td>1</td>\n",
       "    </tr>\n",
       "    <tr>\n",
       "      <th>1</th>\n",
       "      <td>0</td>\n",
       "    </tr>\n",
       "    <tr>\n",
       "      <th>2</th>\n",
       "      <td>0</td>\n",
       "    </tr>\n",
       "    <tr>\n",
       "      <th>3</th>\n",
       "      <td>0</td>\n",
       "    </tr>\n",
       "    <tr>\n",
       "      <th>4</th>\n",
       "      <td>1</td>\n",
       "    </tr>\n",
       "    <tr>\n",
       "      <th>...</th>\n",
       "      <td>...</td>\n",
       "    </tr>\n",
       "    <tr>\n",
       "      <th>886</th>\n",
       "      <td>1</td>\n",
       "    </tr>\n",
       "    <tr>\n",
       "      <th>887</th>\n",
       "      <td>0</td>\n",
       "    </tr>\n",
       "    <tr>\n",
       "      <th>888</th>\n",
       "      <td>0</td>\n",
       "    </tr>\n",
       "    <tr>\n",
       "      <th>889</th>\n",
       "      <td>1</td>\n",
       "    </tr>\n",
       "    <tr>\n",
       "      <th>890</th>\n",
       "      <td>1</td>\n",
       "    </tr>\n",
       "  </tbody>\n",
       "</table>\n",
       "<p>891 rows × 1 columns</p>\n",
       "</div>"
      ],
      "text/plain": [
       "     male\n",
       "0       1\n",
       "1       0\n",
       "2       0\n",
       "3       0\n",
       "4       1\n",
       "..    ...\n",
       "886     1\n",
       "887     0\n",
       "888     0\n",
       "889     1\n",
       "890     1\n",
       "\n",
       "[891 rows x 1 columns]"
      ]
     },
     "execution_count": 18,
     "metadata": {},
     "output_type": "execute_result"
    }
   ],
   "source": [
    "gender = pd.get_dummies(titanic_data['Sex'], drop_first=True)\n",
    "gender"
   ]
  },
  {
   "cell_type": "code",
   "execution_count": 19,
   "id": "c72cd5c3",
   "metadata": {
    "execution": {
     "iopub.execute_input": "2022-01-11T04:30:00.988150Z",
     "iopub.status.busy": "2022-01-11T04:30:00.987437Z",
     "iopub.status.idle": "2022-01-11T04:30:01.206400Z",
     "shell.execute_reply": "2022-01-11T04:30:01.206895Z",
     "shell.execute_reply.started": "2022-01-11T04:19:54.646980Z"
    },
    "papermill": {
     "duration": 0.244578,
     "end_time": "2022-01-11T04:30:01.207116",
     "exception": false,
     "start_time": "2022-01-11T04:30:00.962538",
     "status": "completed"
    },
    "tags": []
   },
   "outputs": [
    {
     "data": {
      "text/plain": [
       "<AxesSubplot:xlabel='Survived', ylabel='count'>"
      ]
     },
     "execution_count": 19,
     "metadata": {},
     "output_type": "execute_result"
    },
    {
     "data": {
      "image/png": "[encoded data removed]",
      "text/plain": [
       "<Figure size 432x288 with 1 Axes>"
      ]
     },
     "metadata": {
      "needs_background": "light"
     },
     "output_type": "display_data"
    }
   ],
   "source": [
    "##Exploratory Data Analysis\n",
    "sns.countplot(x='Survived', data = titanic_data)"
   ]
  },
  {
   "cell_type": "code",
   "execution_count": 20,
   "id": "5ddde0c0",
   "metadata": {
    "execution": {
     "iopub.execute_input": "2022-01-11T04:30:01.272717Z",
     "iopub.status.busy": "2022-01-11T04:30:01.262706Z",
     "iopub.status.idle": "2022-01-11T04:30:01.476591Z",
     "shell.execute_reply": "2022-01-11T04:30:01.477287Z",
     "shell.execute_reply.started": "2022-01-11T04:19:54.828349Z"
    },
    "papermill": {
     "duration": 0.248063,
     "end_time": "2022-01-11T04:30:01.477496",
     "exception": false,
     "start_time": "2022-01-11T04:30:01.229433",
     "status": "completed"
    },
    "tags": []
   },
   "outputs": [
    {
     "data": {
      "text/plain": [
       "<AxesSubplot:xlabel='Survived', ylabel='count'>"
      ]
     },
     "execution_count": 20,
     "metadata": {},
     "output_type": "execute_result"
    },
    {
     "data": {
      "image/png": "[encoded data removed]",
      "text/plain": [
       "<Figure size 432x288 with 1 Axes>"
      ]
     },
     "metadata": {
      "needs_background": "light"
     },
     "output_type": "display_data"
    }
   ],
   "source": [
    "#Male vs female Survival\n",
    "sns.countplot(x='Survived', hue='Sex', data = titanic_data)"
   ]
  },
  {
   "cell_type": "code",
   "execution_count": 21,
   "id": "d15db3c9",
   "metadata": {
    "execution": {
     "iopub.execute_input": "2022-01-11T04:30:01.537033Z",
     "iopub.status.busy": "2022-01-11T04:30:01.536095Z",
     "iopub.status.idle": "2022-01-11T04:30:01.792041Z",
     "shell.execute_reply": "2022-01-11T04:30:01.792618Z",
     "shell.execute_reply.started": "2022-01-11T04:19:55.048976Z"
    },
    "papermill": {
     "duration": 0.290178,
     "end_time": "2022-01-11T04:30:01.792855",
     "exception": false,
     "start_time": "2022-01-11T04:30:01.502677",
     "status": "completed"
    },
    "tags": []
   },
   "outputs": [
    {
     "data": {
      "text/plain": [
       "<AxesSubplot:xlabel='Sex', ylabel='Fare'>"
      ]
     },
     "execution_count": 21,
     "metadata": {},
     "output_type": "execute_result"
    },
    {
     "data": {
      "image/png": "[encoded data removed]",
      "text/plain": [
       "<Figure size 432x288 with 1 Axes>"
      ]
     },
     "metadata": {
      "needs_background": "light"
     },
     "output_type": "display_data"
    }
   ],
   "source": [
    "sns.barplot(x='Sex', y='Fare', data = titanic_data)"
   ]
  },
  {
   "cell_type": "code",
   "execution_count": 22,
   "id": "4e77e7e3",
   "metadata": {
    "execution": {
     "iopub.execute_input": "2022-01-11T04:30:01.855768Z",
     "iopub.status.busy": "2022-01-11T04:30:01.846155Z",
     "iopub.status.idle": "2022-01-11T04:30:01.875127Z",
     "shell.execute_reply": "2022-01-11T04:30:01.875737Z",
     "shell.execute_reply.started": "2022-01-11T04:19:55.305176Z"
    },
    "papermill": {
     "duration": 0.058547,
     "end_time": "2022-01-11T04:30:01.875944",
     "exception": false,
     "start_time": "2022-01-11T04:30:01.817397",
     "status": "completed"
    },
    "tags": []
   },
   "outputs": [
    {
     "data": {
      "text/html": [
       "<div>\n",
       "<style scoped>\n",
       "    .dataframe tbody tr th:only-of-type {\n",
       "        vertical-align: middle;\n",
       "    }\n",
       "\n",
       "    .dataframe tbody tr th {\n",
       "        vertical-align: top;\n",
       "    }\n",
       "\n",
       "    .dataframe thead th {\n",
       "        text-align: right;\n",
       "    }\n",
       "</style>\n",
       "<table border=\"1\" class=\"dataframe\">\n",
       "  <thead>\n",
       "    <tr style=\"text-align: right;\">\n",
       "      <th></th>\n",
       "      <th>PassengerId</th>\n",
       "      <th>Survived</th>\n",
       "      <th>Pclass</th>\n",
       "      <th>Name</th>\n",
       "      <th>Sex</th>\n",
       "      <th>Age</th>\n",
       "      <th>SibSp</th>\n",
       "      <th>Parch</th>\n",
       "      <th>Ticket</th>\n",
       "      <th>Fare</th>\n",
       "      <th>Cabin</th>\n",
       "      <th>Embarked</th>\n",
       "      <th>Gender</th>\n",
       "    </tr>\n",
       "  </thead>\n",
       "  <tbody>\n",
       "    <tr>\n",
       "      <th>0</th>\n",
       "      <td>1</td>\n",
       "      <td>0</td>\n",
       "      <td>3</td>\n",
       "      <td>Braund, Mr. Owen Harris</td>\n",
       "      <td>male</td>\n",
       "      <td>22.0</td>\n",
       "      <td>1</td>\n",
       "      <td>0</td>\n",
       "      <td>A/5 21171</td>\n",
       "      <td>7.2500</td>\n",
       "      <td>NaN</td>\n",
       "      <td>S</td>\n",
       "      <td>1</td>\n",
       "    </tr>\n",
       "    <tr>\n",
       "      <th>1</th>\n",
       "      <td>2</td>\n",
       "      <td>1</td>\n",
       "      <td>1</td>\n",
       "      <td>Cumings, Mrs. John Bradley (Florence Briggs Th...</td>\n",
       "      <td>female</td>\n",
       "      <td>38.0</td>\n",
       "      <td>1</td>\n",
       "      <td>0</td>\n",
       "      <td>PC 17599</td>\n",
       "      <td>71.2833</td>\n",
       "      <td>C85</td>\n",
       "      <td>C</td>\n",
       "      <td>0</td>\n",
       "    </tr>\n",
       "    <tr>\n",
       "      <th>2</th>\n",
       "      <td>3</td>\n",
       "      <td>1</td>\n",
       "      <td>3</td>\n",
       "      <td>Heikkinen, Miss. Laina</td>\n",
       "      <td>female</td>\n",
       "      <td>26.0</td>\n",
       "      <td>0</td>\n",
       "      <td>0</td>\n",
       "      <td>STON/O2. 3101282</td>\n",
       "      <td>7.9250</td>\n",
       "      <td>NaN</td>\n",
       "      <td>S</td>\n",
       "      <td>0</td>\n",
       "    </tr>\n",
       "    <tr>\n",
       "      <th>3</th>\n",
       "      <td>4</td>\n",
       "      <td>1</td>\n",
       "      <td>1</td>\n",
       "      <td>Futrelle, Mrs. Jacques Heath (Lily May Peel)</td>\n",
       "      <td>female</td>\n",
       "      <td>35.0</td>\n",
       "      <td>1</td>\n",
       "      <td>0</td>\n",
       "      <td>113803</td>\n",
       "      <td>53.1000</td>\n",
       "      <td>C123</td>\n",
       "      <td>S</td>\n",
       "      <td>0</td>\n",
       "    </tr>\n",
       "    <tr>\n",
       "      <th>4</th>\n",
       "      <td>5</td>\n",
       "      <td>0</td>\n",
       "      <td>3</td>\n",
       "      <td>Allen, Mr. William Henry</td>\n",
       "      <td>male</td>\n",
       "      <td>35.0</td>\n",
       "      <td>0</td>\n",
       "      <td>0</td>\n",
       "      <td>373450</td>\n",
       "      <td>8.0500</td>\n",
       "      <td>NaN</td>\n",
       "      <td>S</td>\n",
       "      <td>1</td>\n",
       "    </tr>\n",
       "    <tr>\n",
       "      <th>...</th>\n",
       "      <td>...</td>\n",
       "      <td>...</td>\n",
       "      <td>...</td>\n",
       "      <td>...</td>\n",
       "      <td>...</td>\n",
       "      <td>...</td>\n",
       "      <td>...</td>\n",
       "      <td>...</td>\n",
       "      <td>...</td>\n",
       "      <td>...</td>\n",
       "      <td>...</td>\n",
       "      <td>...</td>\n",
       "      <td>...</td>\n",
       "    </tr>\n",
       "    <tr>\n",
       "      <th>886</th>\n",
       "      <td>887</td>\n",
       "      <td>0</td>\n",
       "      <td>2</td>\n",
       "      <td>Montvila, Rev. Juozas</td>\n",
       "      <td>male</td>\n",
       "      <td>27.0</td>\n",
       "      <td>0</td>\n",
       "      <td>0</td>\n",
       "      <td>211536</td>\n",
       "      <td>13.0000</td>\n",
       "      <td>NaN</td>\n",
       "      <td>S</td>\n",
       "      <td>1</td>\n",
       "    </tr>\n",
       "    <tr>\n",
       "      <th>887</th>\n",
       "      <td>888</td>\n",
       "      <td>1</td>\n",
       "      <td>1</td>\n",
       "      <td>Graham, Miss. Margaret Edith</td>\n",
       "      <td>female</td>\n",
       "      <td>19.0</td>\n",
       "      <td>0</td>\n",
       "      <td>0</td>\n",
       "      <td>112053</td>\n",
       "      <td>30.0000</td>\n",
       "      <td>B42</td>\n",
       "      <td>S</td>\n",
       "      <td>0</td>\n",
       "    </tr>\n",
       "    <tr>\n",
       "      <th>888</th>\n",
       "      <td>889</td>\n",
       "      <td>0</td>\n",
       "      <td>3</td>\n",
       "      <td>Johnston, Miss. Catherine Helen \"Carrie\"</td>\n",
       "      <td>female</td>\n",
       "      <td>NaN</td>\n",
       "      <td>1</td>\n",
       "      <td>2</td>\n",
       "      <td>W./C. 6607</td>\n",
       "      <td>23.4500</td>\n",
       "      <td>NaN</td>\n",
       "      <td>S</td>\n",
       "      <td>0</td>\n",
       "    </tr>\n",
       "    <tr>\n",
       "      <th>889</th>\n",
       "      <td>890</td>\n",
       "      <td>1</td>\n",
       "      <td>1</td>\n",
       "      <td>Behr, Mr. Karl Howell</td>\n",
       "      <td>male</td>\n",
       "      <td>26.0</td>\n",
       "      <td>0</td>\n",
       "      <td>0</td>\n",
       "      <td>111369</td>\n",
       "      <td>30.0000</td>\n",
       "      <td>C148</td>\n",
       "      <td>C</td>\n",
       "      <td>1</td>\n",
       "    </tr>\n",
       "    <tr>\n",
       "      <th>890</th>\n",
       "      <td>891</td>\n",
       "      <td>0</td>\n",
       "      <td>3</td>\n",
       "      <td>Dooley, Mr. Patrick</td>\n",
       "      <td>male</td>\n",
       "      <td>32.0</td>\n",
       "      <td>0</td>\n",
       "      <td>0</td>\n",
       "      <td>370376</td>\n",
       "      <td>7.7500</td>\n",
       "      <td>NaN</td>\n",
       "      <td>Q</td>\n",
       "      <td>1</td>\n",
       "    </tr>\n",
       "  </tbody>\n",
       "</table>\n",
       "<p>891 rows × 13 columns</p>\n",
       "</div>"
      ],
      "text/plain": [
       "     PassengerId  Survived  Pclass  \\\n",
       "0              1         0       3   \n",
       "1              2         1       1   \n",
       "2              3         1       3   \n",
       "3              4         1       1   \n",
       "4              5         0       3   \n",
       "..           ...       ...     ...   \n",
       "886          887         0       2   \n",
       "887          888         1       1   \n",
       "888          889         0       3   \n",
       "889          890         1       1   \n",
       "890          891         0       3   \n",
       "\n",
       "                                                  Name     Sex   Age  SibSp  \\\n",
       "0                              Braund, Mr. Owen Harris    male  22.0      1   \n",
       "1    Cumings, Mrs. John Bradley (Florence Briggs Th...  female  38.0      1   \n",
       "2                               Heikkinen, Miss. Laina  female  26.0      0   \n",
       "3         Futrelle, Mrs. Jacques Heath (Lily May Peel)  female  35.0      1   \n",
       "4                             Allen, Mr. William Henry    male  35.0      0   \n",
       "..                                                 ...     ...   ...    ...   \n",
       "886                              Montvila, Rev. Juozas    male  27.0      0   \n",
       "887                       Graham, Miss. Margaret Edith  female  19.0      0   \n",
       "888           Johnston, Miss. Catherine Helen \"Carrie\"  female   NaN      1   \n",
       "889                              Behr, Mr. Karl Howell    male  26.0      0   \n",
       "890                                Dooley, Mr. Patrick    male  32.0      0   \n",
       "\n",
       "     Parch            Ticket     Fare Cabin Embarked  Gender  \n",
       "0        0         A/5 21171   7.2500   NaN        S       1  \n",
       "1        0          PC 17599  71.2833   C85        C       0  \n",
       "2        0  STON/O2. 3101282   7.9250   NaN        S       0  \n",
       "3        0            113803  53.1000  C123        S       0  \n",
       "4        0            373450   8.0500   NaN        S       1  \n",
       "..     ...               ...      ...   ...      ...     ...  \n",
       "886      0            211536  13.0000   NaN        S       1  \n",
       "887      0            112053  30.0000   B42        S       0  \n",
       "888      2        W./C. 6607  23.4500   NaN        S       0  \n",
       "889      0            111369  30.0000  C148        C       1  \n",
       "890      0            370376   7.7500   NaN        Q       1  \n",
       "\n",
       "[891 rows x 13 columns]"
      ]
     },
     "execution_count": 22,
     "metadata": {},
     "output_type": "execute_result"
    }
   ],
   "source": [
    "titanic_data['Gender'] = gender\n",
    "titanic_data"
   ]
  },
  {
   "cell_type": "code",
   "execution_count": 23,
   "id": "144c1138",
   "metadata": {
    "execution": {
     "iopub.execute_input": "2022-01-11T04:30:01.938192Z",
     "iopub.status.busy": "2022-01-11T04:30:01.937132Z",
     "iopub.status.idle": "2022-01-11T04:30:01.940908Z",
     "shell.execute_reply": "2022-01-11T04:30:01.941437Z",
     "shell.execute_reply.started": "2022-01-11T04:19:55.334642Z"
    },
    "papermill": {
     "duration": 0.040498,
     "end_time": "2022-01-11T04:30:01.941640",
     "exception": false,
     "start_time": "2022-01-11T04:30:01.901142",
     "status": "completed"
    },
    "tags": []
   },
   "outputs": [
    {
     "data": {
      "text/plain": [
       "PassengerId      0\n",
       "Survived         0\n",
       "Pclass           0\n",
       "Name             0\n",
       "Sex              0\n",
       "Age            177\n",
       "SibSp            0\n",
       "Parch            0\n",
       "Ticket           0\n",
       "Fare             0\n",
       "Cabin          687\n",
       "Embarked         2\n",
       "Gender           0\n",
       "dtype: int64"
      ]
     },
     "execution_count": 23,
     "metadata": {},
     "output_type": "execute_result"
    }
   ],
   "source": [
    "titanic_data.isna().sum()"
   ]
  },
  {
   "cell_type": "code",
   "execution_count": 24,
   "id": "9bf30220",
   "metadata": {
    "execution": {
     "iopub.execute_input": "2022-01-11T04:30:02.002618Z",
     "iopub.status.busy": "2022-01-11T04:30:02.000927Z",
     "iopub.status.idle": "2022-01-11T04:30:02.003816Z",
     "shell.execute_reply": "2022-01-11T04:30:02.004403Z",
     "shell.execute_reply.started": "2022-01-11T04:19:55.347116Z"
    },
    "papermill": {
     "duration": 0.036544,
     "end_time": "2022-01-11T04:30:02.004612",
     "exception": false,
     "start_time": "2022-01-11T04:30:01.968068",
     "status": "completed"
    },
    "tags": []
   },
   "outputs": [],
   "source": [
    "titanic_data['Age'].fillna(titanic_data['Age'].mean(),inplace=True)"
   ]
  },
  {
   "cell_type": "code",
   "execution_count": 25,
   "id": "f98846d2",
   "metadata": {
    "execution": {
     "iopub.execute_input": "2022-01-11T04:30:02.063421Z",
     "iopub.status.busy": "2022-01-11T04:30:02.062288Z",
     "iopub.status.idle": "2022-01-11T04:30:02.070443Z",
     "shell.execute_reply": "2022-01-11T04:30:02.071455Z",
     "shell.execute_reply.started": "2022-01-11T04:19:55.360527Z"
    },
    "papermill": {
     "duration": 0.041166,
     "end_time": "2022-01-11T04:30:02.071764",
     "exception": false,
     "start_time": "2022-01-11T04:30:02.030598",
     "status": "completed"
    },
    "tags": []
   },
   "outputs": [
    {
     "data": {
      "text/plain": [
       "PassengerId      0\n",
       "Survived         0\n",
       "Pclass           0\n",
       "Name             0\n",
       "Sex              0\n",
       "Age              0\n",
       "SibSp            0\n",
       "Parch            0\n",
       "Ticket           0\n",
       "Fare             0\n",
       "Cabin          687\n",
       "Embarked         2\n",
       "Gender           0\n",
       "dtype: int64"
      ]
     },
     "execution_count": 25,
     "metadata": {},
     "output_type": "execute_result"
    }
   ],
   "source": [
    "titanic_data.isna().sum()"
   ]
  },
  {
   "cell_type": "code",
   "execution_count": 26,
   "id": "8b585c1a",
   "metadata": {
    "execution": {
     "iopub.execute_input": "2022-01-11T04:30:02.128474Z",
     "iopub.status.busy": "2022-01-11T04:30:02.127402Z",
     "iopub.status.idle": "2022-01-11T04:30:02.153185Z",
     "shell.execute_reply": "2022-01-11T04:30:02.152574Z",
     "shell.execute_reply.started": "2022-01-11T04:19:55.382822Z"
    },
    "papermill": {
     "duration": 0.054848,
     "end_time": "2022-01-11T04:30:02.153351",
     "exception": false,
     "start_time": "2022-01-11T04:30:02.098503",
     "status": "completed"
    },
    "tags": []
   },
   "outputs": [
    {
     "data": {
      "text/html": [
       "<div>\n",
       "<style scoped>\n",
       "    .dataframe tbody tr th:only-of-type {\n",
       "        vertical-align: middle;\n",
       "    }\n",
       "\n",
       "    .dataframe tbody tr th {\n",
       "        vertical-align: top;\n",
       "    }\n",
       "\n",
       "    .dataframe thead th {\n",
       "        text-align: right;\n",
       "    }\n",
       "</style>\n",
       "<table border=\"1\" class=\"dataframe\">\n",
       "  <thead>\n",
       "    <tr style=\"text-align: right;\">\n",
       "      <th></th>\n",
       "      <th>PassengerId</th>\n",
       "      <th>Survived</th>\n",
       "      <th>Pclass</th>\n",
       "      <th>Name</th>\n",
       "      <th>Sex</th>\n",
       "      <th>Age</th>\n",
       "      <th>SibSp</th>\n",
       "      <th>Parch</th>\n",
       "      <th>Ticket</th>\n",
       "      <th>Fare</th>\n",
       "      <th>Cabin</th>\n",
       "      <th>Embarked</th>\n",
       "      <th>Gender</th>\n",
       "    </tr>\n",
       "  </thead>\n",
       "  <tbody>\n",
       "    <tr>\n",
       "      <th>0</th>\n",
       "      <td>1</td>\n",
       "      <td>0</td>\n",
       "      <td>3</td>\n",
       "      <td>Braund, Mr. Owen Harris</td>\n",
       "      <td>male</td>\n",
       "      <td>22.000000</td>\n",
       "      <td>1</td>\n",
       "      <td>0</td>\n",
       "      <td>A/5 21171</td>\n",
       "      <td>7.2500</td>\n",
       "      <td>NaN</td>\n",
       "      <td>S</td>\n",
       "      <td>1</td>\n",
       "    </tr>\n",
       "    <tr>\n",
       "      <th>1</th>\n",
       "      <td>2</td>\n",
       "      <td>1</td>\n",
       "      <td>1</td>\n",
       "      <td>Cumings, Mrs. John Bradley (Florence Briggs Th...</td>\n",
       "      <td>female</td>\n",
       "      <td>38.000000</td>\n",
       "      <td>1</td>\n",
       "      <td>0</td>\n",
       "      <td>PC 17599</td>\n",
       "      <td>71.2833</td>\n",
       "      <td>C85</td>\n",
       "      <td>C</td>\n",
       "      <td>0</td>\n",
       "    </tr>\n",
       "    <tr>\n",
       "      <th>2</th>\n",
       "      <td>3</td>\n",
       "      <td>1</td>\n",
       "      <td>3</td>\n",
       "      <td>Heikkinen, Miss. Laina</td>\n",
       "      <td>female</td>\n",
       "      <td>26.000000</td>\n",
       "      <td>0</td>\n",
       "      <td>0</td>\n",
       "      <td>STON/O2. 3101282</td>\n",
       "      <td>7.9250</td>\n",
       "      <td>NaN</td>\n",
       "      <td>S</td>\n",
       "      <td>0</td>\n",
       "    </tr>\n",
       "    <tr>\n",
       "      <th>3</th>\n",
       "      <td>4</td>\n",
       "      <td>1</td>\n",
       "      <td>1</td>\n",
       "      <td>Futrelle, Mrs. Jacques Heath (Lily May Peel)</td>\n",
       "      <td>female</td>\n",
       "      <td>35.000000</td>\n",
       "      <td>1</td>\n",
       "      <td>0</td>\n",
       "      <td>113803</td>\n",
       "      <td>53.1000</td>\n",
       "      <td>C123</td>\n",
       "      <td>S</td>\n",
       "      <td>0</td>\n",
       "    </tr>\n",
       "    <tr>\n",
       "      <th>4</th>\n",
       "      <td>5</td>\n",
       "      <td>0</td>\n",
       "      <td>3</td>\n",
       "      <td>Allen, Mr. William Henry</td>\n",
       "      <td>male</td>\n",
       "      <td>35.000000</td>\n",
       "      <td>0</td>\n",
       "      <td>0</td>\n",
       "      <td>373450</td>\n",
       "      <td>8.0500</td>\n",
       "      <td>NaN</td>\n",
       "      <td>S</td>\n",
       "      <td>1</td>\n",
       "    </tr>\n",
       "    <tr>\n",
       "      <th>...</th>\n",
       "      <td>...</td>\n",
       "      <td>...</td>\n",
       "      <td>...</td>\n",
       "      <td>...</td>\n",
       "      <td>...</td>\n",
       "      <td>...</td>\n",
       "      <td>...</td>\n",
       "      <td>...</td>\n",
       "      <td>...</td>\n",
       "      <td>...</td>\n",
       "      <td>...</td>\n",
       "      <td>...</td>\n",
       "      <td>...</td>\n",
       "    </tr>\n",
       "    <tr>\n",
       "      <th>886</th>\n",
       "      <td>887</td>\n",
       "      <td>0</td>\n",
       "      <td>2</td>\n",
       "      <td>Montvila, Rev. Juozas</td>\n",
       "      <td>male</td>\n",
       "      <td>27.000000</td>\n",
       "      <td>0</td>\n",
       "      <td>0</td>\n",
       "      <td>211536</td>\n",
       "      <td>13.0000</td>\n",
       "      <td>NaN</td>\n",
       "      <td>S</td>\n",
       "      <td>1</td>\n",
       "    </tr>\n",
       "    <tr>\n",
       "      <th>887</th>\n",
       "      <td>888</td>\n",
       "      <td>1</td>\n",
       "      <td>1</td>\n",
       "      <td>Graham, Miss. Margaret Edith</td>\n",
       "      <td>female</td>\n",
       "      <td>19.000000</td>\n",
       "      <td>0</td>\n",
       "      <td>0</td>\n",
       "      <td>112053</td>\n",
       "      <td>30.0000</td>\n",
       "      <td>B42</td>\n",
       "      <td>S</td>\n",
       "      <td>0</td>\n",
       "    </tr>\n",
       "    <tr>\n",
       "      <th>888</th>\n",
       "      <td>889</td>\n",
       "      <td>0</td>\n",
       "      <td>3</td>\n",
       "      <td>Johnston, Miss. Catherine Helen \"Carrie\"</td>\n",
       "      <td>female</td>\n",
       "      <td>29.699118</td>\n",
       "      <td>1</td>\n",
       "      <td>2</td>\n",
       "      <td>W./C. 6607</td>\n",
       "      <td>23.4500</td>\n",
       "      <td>NaN</td>\n",
       "      <td>S</td>\n",
       "      <td>0</td>\n",
       "    </tr>\n",
       "    <tr>\n",
       "      <th>889</th>\n",
       "      <td>890</td>\n",
       "      <td>1</td>\n",
       "      <td>1</td>\n",
       "      <td>Behr, Mr. Karl Howell</td>\n",
       "      <td>male</td>\n",
       "      <td>26.000000</td>\n",
       "      <td>0</td>\n",
       "      <td>0</td>\n",
       "      <td>111369</td>\n",
       "      <td>30.0000</td>\n",
       "      <td>C148</td>\n",
       "      <td>C</td>\n",
       "      <td>1</td>\n",
       "    </tr>\n",
       "    <tr>\n",
       "      <th>890</th>\n",
       "      <td>891</td>\n",
       "      <td>0</td>\n",
       "      <td>3</td>\n",
       "      <td>Dooley, Mr. Patrick</td>\n",
       "      <td>male</td>\n",
       "      <td>32.000000</td>\n",
       "      <td>0</td>\n",
       "      <td>0</td>\n",
       "      <td>370376</td>\n",
       "      <td>7.7500</td>\n",
       "      <td>NaN</td>\n",
       "      <td>Q</td>\n",
       "      <td>1</td>\n",
       "    </tr>\n",
       "  </tbody>\n",
       "</table>\n",
       "<p>891 rows × 13 columns</p>\n",
       "</div>"
      ],
      "text/plain": [
       "     PassengerId  Survived  Pclass  \\\n",
       "0              1         0       3   \n",
       "1              2         1       1   \n",
       "2              3         1       3   \n",
       "3              4         1       1   \n",
       "4              5         0       3   \n",
       "..           ...       ...     ...   \n",
       "886          887         0       2   \n",
       "887          888         1       1   \n",
       "888          889         0       3   \n",
       "889          890         1       1   \n",
       "890          891         0       3   \n",
       "\n",
       "                                                  Name     Sex        Age  \\\n",
       "0                              Braund, Mr. Owen Harris    male  22.000000   \n",
       "1    Cumings, Mrs. John Bradley (Florence Briggs Th...  female  38.000000   \n",
       "2                               Heikkinen, Miss. Laina  female  26.000000   \n",
       "3         Futrelle, Mrs. Jacques Heath (Lily May Peel)  female  35.000000   \n",
       "4                             Allen, Mr. William Henry    male  35.000000   \n",
       "..                                                 ...     ...        ...   \n",
       "886                              Montvila, Rev. Juozas    male  27.000000   \n",
       "887                       Graham, Miss. Margaret Edith  female  19.000000   \n",
       "888           Johnston, Miss. Catherine Helen \"Carrie\"  female  29.699118   \n",
       "889                              Behr, Mr. Karl Howell    male  26.000000   \n",
       "890                                Dooley, Mr. Patrick    male  32.000000   \n",
       "\n",
       "     SibSp  Parch            Ticket     Fare Cabin Embarked  Gender  \n",
       "0        1      0         A/5 21171   7.2500   NaN        S       1  \n",
       "1        1      0          PC 17599  71.2833   C85        C       0  \n",
       "2        0      0  STON/O2. 3101282   7.9250   NaN        S       0  \n",
       "3        1      0            113803  53.1000  C123        S       0  \n",
       "4        0      0            373450   8.0500   NaN        S       1  \n",
       "..     ...    ...               ...      ...   ...      ...     ...  \n",
       "886      0      0            211536  13.0000   NaN        S       1  \n",
       "887      0      0            112053  30.0000   B42        S       0  \n",
       "888      1      2        W./C. 6607  23.4500   NaN        S       0  \n",
       "889      0      0            111369  30.0000  C148        C       1  \n",
       "890      0      0            370376   7.7500   NaN        Q       1  \n",
       "\n",
       "[891 rows x 13 columns]"
      ]
     },
     "execution_count": 26,
     "metadata": {},
     "output_type": "execute_result"
    }
   ],
   "source": [
    "titanic_data"
   ]
  },
  {
   "cell_type": "code",
   "execution_count": 27,
   "id": "62506a0a",
   "metadata": {
    "execution": {
     "iopub.execute_input": "2022-01-11T04:30:02.210888Z",
     "iopub.status.busy": "2022-01-11T04:30:02.209872Z",
     "iopub.status.idle": "2022-01-11T04:30:02.215357Z",
     "shell.execute_reply": "2022-01-11T04:30:02.215943Z",
     "shell.execute_reply.started": "2022-01-11T04:19:55.410641Z"
    },
    "papermill": {
     "duration": 0.036438,
     "end_time": "2022-01-11T04:30:02.216172",
     "exception": false,
     "start_time": "2022-01-11T04:30:02.179734",
     "status": "completed"
    },
    "tags": []
   },
   "outputs": [],
   "source": [
    "titanic_data.drop(['Name','Sex','Ticket','Embarked'],axis=1,inplace=True)"
   ]
  },
  {
   "cell_type": "code",
   "execution_count": 28,
   "id": "69ce9a56",
   "metadata": {
    "execution": {
     "iopub.execute_input": "2022-01-11T04:30:02.273549Z",
     "iopub.status.busy": "2022-01-11T04:30:02.272858Z",
     "iopub.status.idle": "2022-01-11T04:30:02.278216Z",
     "shell.execute_reply": "2022-01-11T04:30:02.278762Z",
     "shell.execute_reply.started": "2022-01-11T04:19:55.418436Z"
    },
    "papermill": {
     "duration": 0.036862,
     "end_time": "2022-01-11T04:30:02.278957",
     "exception": false,
     "start_time": "2022-01-11T04:30:02.242095",
     "status": "completed"
    },
    "tags": []
   },
   "outputs": [],
   "source": [
    "titanic_data.drop(['Cabin'],axis=1,inplace=True)"
   ]
  },
  {
   "cell_type": "code",
   "execution_count": 29,
   "id": "8f3d82af",
   "metadata": {
    "execution": {
     "iopub.execute_input": "2022-01-11T04:30:02.344792Z",
     "iopub.status.busy": "2022-01-11T04:30:02.334701Z",
     "iopub.status.idle": "2022-01-11T04:30:02.348210Z",
     "shell.execute_reply": "2022-01-11T04:30:02.348901Z",
     "shell.execute_reply.started": "2022-01-11T04:19:55.433564Z"
    },
    "papermill": {
     "duration": 0.04402,
     "end_time": "2022-01-11T04:30:02.349121",
     "exception": false,
     "start_time": "2022-01-11T04:30:02.305101",
     "status": "completed"
    },
    "tags": []
   },
   "outputs": [
    {
     "data": {
      "text/html": [
       "<div>\n",
       "<style scoped>\n",
       "    .dataframe tbody tr th:only-of-type {\n",
       "        vertical-align: middle;\n",
       "    }\n",
       "\n",
       "    .dataframe tbody tr th {\n",
       "        vertical-align: top;\n",
       "    }\n",
       "\n",
       "    .dataframe thead th {\n",
       "        text-align: right;\n",
       "    }\n",
       "</style>\n",
       "<table border=\"1\" class=\"dataframe\">\n",
       "  <thead>\n",
       "    <tr style=\"text-align: right;\">\n",
       "      <th></th>\n",
       "      <th>PassengerId</th>\n",
       "      <th>Survived</th>\n",
       "      <th>Pclass</th>\n",
       "      <th>Age</th>\n",
       "      <th>SibSp</th>\n",
       "      <th>Parch</th>\n",
       "      <th>Fare</th>\n",
       "      <th>Gender</th>\n",
       "    </tr>\n",
       "  </thead>\n",
       "  <tbody>\n",
       "    <tr>\n",
       "      <th>0</th>\n",
       "      <td>1</td>\n",
       "      <td>0</td>\n",
       "      <td>3</td>\n",
       "      <td>22.0</td>\n",
       "      <td>1</td>\n",
       "      <td>0</td>\n",
       "      <td>7.2500</td>\n",
       "      <td>1</td>\n",
       "    </tr>\n",
       "    <tr>\n",
       "      <th>1</th>\n",
       "      <td>2</td>\n",
       "      <td>1</td>\n",
       "      <td>1</td>\n",
       "      <td>38.0</td>\n",
       "      <td>1</td>\n",
       "      <td>0</td>\n",
       "      <td>71.2833</td>\n",
       "      <td>0</td>\n",
       "    </tr>\n",
       "    <tr>\n",
       "      <th>2</th>\n",
       "      <td>3</td>\n",
       "      <td>1</td>\n",
       "      <td>3</td>\n",
       "      <td>26.0</td>\n",
       "      <td>0</td>\n",
       "      <td>0</td>\n",
       "      <td>7.9250</td>\n",
       "      <td>0</td>\n",
       "    </tr>\n",
       "    <tr>\n",
       "      <th>3</th>\n",
       "      <td>4</td>\n",
       "      <td>1</td>\n",
       "      <td>1</td>\n",
       "      <td>35.0</td>\n",
       "      <td>1</td>\n",
       "      <td>0</td>\n",
       "      <td>53.1000</td>\n",
       "      <td>0</td>\n",
       "    </tr>\n",
       "    <tr>\n",
       "      <th>4</th>\n",
       "      <td>5</td>\n",
       "      <td>0</td>\n",
       "      <td>3</td>\n",
       "      <td>35.0</td>\n",
       "      <td>0</td>\n",
       "      <td>0</td>\n",
       "      <td>8.0500</td>\n",
       "      <td>1</td>\n",
       "    </tr>\n",
       "  </tbody>\n",
       "</table>\n",
       "</div>"
      ],
      "text/plain": [
       "   PassengerId  Survived  Pclass   Age  SibSp  Parch     Fare  Gender\n",
       "0            1         0       3  22.0      1      0   7.2500       1\n",
       "1            2         1       1  38.0      1      0  71.2833       0\n",
       "2            3         1       3  26.0      0      0   7.9250       0\n",
       "3            4         1       1  35.0      1      0  53.1000       0\n",
       "4            5         0       3  35.0      0      0   8.0500       1"
      ]
     },
     "execution_count": 29,
     "metadata": {},
     "output_type": "execute_result"
    }
   ],
   "source": [
    "titanic_data.head()"
   ]
  },
  {
   "cell_type": "code",
   "execution_count": 30,
   "id": "4ea331f9",
   "metadata": {
    "execution": {
     "iopub.execute_input": "2022-01-11T04:30:02.408083Z",
     "iopub.status.busy": "2022-01-11T04:30:02.407062Z",
     "iopub.status.idle": "2022-01-11T04:30:02.413050Z",
     "shell.execute_reply": "2022-01-11T04:30:02.413598Z",
     "shell.execute_reply.started": "2022-01-11T04:19:55.458209Z"
    },
    "papermill": {
     "duration": 0.036746,
     "end_time": "2022-01-11T04:30:02.413804",
     "exception": false,
     "start_time": "2022-01-11T04:30:02.377058",
     "status": "completed"
    },
    "tags": []
   },
   "outputs": [],
   "source": [
    "x= titanic_data[['PassengerId','Pclass','Age','SibSp','Parch','Fare','Gender']]\n",
    "y=titanic_data.Survived\n"
   ]
  },
  {
   "cell_type": "code",
   "execution_count": 31,
   "id": "e5a9b9d8",
   "metadata": {
    "execution": {
     "iopub.execute_input": "2022-01-11T04:30:02.471426Z",
     "iopub.status.busy": "2022-01-11T04:30:02.470733Z",
     "iopub.status.idle": "2022-01-11T04:30:02.659082Z",
     "shell.execute_reply": "2022-01-11T04:30:02.658388Z",
     "shell.execute_reply.started": "2022-01-11T04:20:13.266687Z"
    },
    "papermill": {
     "duration": 0.218351,
     "end_time": "2022-01-11T04:30:02.659245",
     "exception": false,
     "start_time": "2022-01-11T04:30:02.440894",
     "status": "completed"
    },
    "tags": []
   },
   "outputs": [],
   "source": [
    "#Data Modelling\n",
    "from sklearn.model_selection import train_test_split\n",
    "x_train, x_test, y_train, y_test = train_test_split(x,y, random_state = 0, test_size=0.2)\n"
   ]
  },
  {
   "cell_type": "code",
   "execution_count": 32,
   "id": "aa592804",
   "metadata": {
    "execution": {
     "iopub.execute_input": "2022-01-11T04:30:02.719305Z",
     "iopub.status.busy": "2022-01-11T04:30:02.718533Z",
     "iopub.status.idle": "2022-01-11T04:30:02.822940Z",
     "shell.execute_reply": "2022-01-11T04:30:02.822243Z",
     "shell.execute_reply.started": "2022-01-11T04:20:17.855352Z"
    },
    "papermill": {
     "duration": 0.136835,
     "end_time": "2022-01-11T04:30:02.823096",
     "exception": false,
     "start_time": "2022-01-11T04:30:02.686261",
     "status": "completed"
    },
    "tags": []
   },
   "outputs": [
    {
     "data": {
      "text/plain": [
       "LinearRegression()"
      ]
     },
     "execution_count": 32,
     "metadata": {},
     "output_type": "execute_result"
    }
   ],
   "source": [
    "#Train The Model \n",
    "from sklearn.linear_model import LinearRegression\n",
    "model = LinearRegression()\n",
    "model.fit(x_train, y_train)"
   ]
  },
  {
   "cell_type": "code",
   "execution_count": 33,
   "id": "50f0cb77",
   "metadata": {
    "execution": {
     "iopub.execute_input": "2022-01-11T04:30:02.886771Z",
     "iopub.status.busy": "2022-01-11T04:30:02.886044Z",
     "iopub.status.idle": "2022-01-11T04:30:02.894562Z",
     "shell.execute_reply": "2022-01-11T04:30:02.895048Z",
     "shell.execute_reply.started": "2022-01-11T04:21:30.977222Z"
    },
    "papermill": {
     "duration": 0.044027,
     "end_time": "2022-01-11T04:30:02.895257",
     "exception": false,
     "start_time": "2022-01-11T04:30:02.851230",
     "status": "completed"
    },
    "tags": []
   },
   "outputs": [
    {
     "data": {
      "text/plain": [
       "array([ 0.12055222,  0.11718974,  0.06035291,  0.95834209,  0.61230118,\n",
       "        0.44773752,  0.94190808,  0.97535125,  0.45014453,  0.63329841,\n",
       "        0.09150217,  0.73080642,  0.11959025,  0.91355468,  1.01796468,\n",
       "        0.73417848,  0.16152053,  0.29483148,  0.08418046,  0.28659166,\n",
       "        0.35500101,  1.05400104,  0.11659066,  0.44806799,  0.68218829,\n",
       "        0.87305056,  0.10349773,  0.68312374,  0.81285233,  0.63860021,\n",
       "        0.09869238,  0.66634521,  0.13091845,  0.4508518 ,  0.07348307,\n",
       "        0.43153405,  0.03217191,  0.28787245,  0.30880691,  0.12841203,\n",
       "        0.21036954,  0.14641936,  0.12034649,  0.0181236 ,  0.90044633,\n",
       "        0.12013346,  0.11727747,  0.99597388,  0.21994205,  0.26257207,\n",
       "        0.44527664,  0.48871161,  0.89580439,  0.18509471,  0.44465537,\n",
       "        0.24011127,  0.24315823,  0.53491538,  0.07254477,  0.02722808,\n",
       "        0.16856418,  0.58390555,  0.77752544,  0.44872137,  0.62462983,\n",
       "        0.10153424,  0.83674852,  0.28195821,  0.91064537,  1.02665654,\n",
       "        0.7877316 ,  0.28961221,  0.4302536 ,  0.12031444,  0.14996202,\n",
       "        0.64838653,  0.42779093,  0.38323355,  0.09201653,  0.28248451,\n",
       "        0.07396025,  0.18814623,  0.76068009,  0.20291668,  0.18283587,\n",
       "        1.03328094,  0.95810362,  0.42394167,  0.76677148,  0.50074646,\n",
       "        0.43370783,  0.18349433,  0.39130201,  0.86709536,  0.5945743 ,\n",
       "        0.11767223,  0.80363673,  0.0076943 ,  0.25347432,  0.47999088,\n",
       "       -0.04245374,  0.08443527,  0.18423635,  0.13010523,  0.57622041,\n",
       "        0.54195296,  0.80594676,  0.50045318,  0.26453394,  0.58632087,\n",
       "        0.00146072,  1.0053407 ,  0.11997243,  0.63259062,  0.36319758,\n",
       "        0.80486279,  0.62474755,  1.05874418,  0.05291924,  0.64050399,\n",
       "        0.13546062,  0.12083715,  0.17826701,  0.3814153 ,  0.09962584,\n",
       "        0.26830432,  0.11771698,  0.10001671,  0.27568058,  0.14760746,\n",
       "        0.6875665 ,  0.17293211,  0.14588585,  0.64783207,  0.22885486,\n",
       "        0.1752838 ,  0.07069779,  0.52217135,  0.14745512,  0.32143867,\n",
       "        0.2915883 ,  0.91453263,  0.11808111,  0.7052923 ,  0.80182228,\n",
       "        0.67016101,  0.27860662,  0.67381936,  0.90113025,  0.12012594,\n",
       "        0.32357564,  0.63484173,  0.58751644,  0.12382061,  0.87500418,\n",
       "        0.30182157,  0.52521227,  0.07544308,  0.63402257,  0.70651907,\n",
       "        0.11867717,  0.17754233,  0.77040516,  0.47078355,  0.14784731,\n",
       "        0.14975797, -0.01700294,  0.1670515 ,  0.15501793,  0.19831073,\n",
       "       -0.01452706,  0.87819425,  0.11822545,  0.11920409,  0.73629902,\n",
       "        0.11640354,  0.93681302,  0.15852406,  0.1861505 ])"
      ]
     },
     "execution_count": 33,
     "metadata": {},
     "output_type": "execute_result"
    }
   ],
   "source": [
    "predict = model.predict(x_test)\n",
    "predict\n"
   ]
  },
  {
   "cell_type": "code",
   "execution_count": 34,
   "id": "0cc08f36",
   "metadata": {
    "execution": {
     "iopub.execute_input": "2022-01-11T04:30:02.955405Z",
     "iopub.status.busy": "2022-01-11T04:30:02.954716Z",
     "iopub.status.idle": "2022-01-11T04:30:02.961786Z",
     "shell.execute_reply": "2022-01-11T04:30:02.962284Z",
     "shell.execute_reply.started": "2022-01-11T04:28:25.459420Z"
    },
    "papermill": {
     "duration": 0.038635,
     "end_time": "2022-01-11T04:30:02.962510",
     "exception": false,
     "start_time": "2022-01-11T04:30:02.923875",
     "status": "completed"
    },
    "tags": []
   },
   "outputs": [
    {
     "data": {
      "text/plain": [
       "array([0.96799399])"
      ]
     },
     "execution_count": 34,
     "metadata": {},
     "output_type": "execute_result"
    }
   ],
   "source": [
    "model.predict([[900,3,25,1,0,2345,1]])"
   ]
  },
  {
   "cell_type": "code",
   "execution_count": 35,
   "id": "cc85874b",
   "metadata": {
    "execution": {
     "iopub.execute_input": "2022-01-11T04:30:03.024585Z",
     "iopub.status.busy": "2022-01-11T04:30:03.023800Z",
     "iopub.status.idle": "2022-01-11T04:30:03.026478Z",
     "shell.execute_reply": "2022-01-11T04:30:03.026000Z"
    },
    "papermill": {
     "duration": 0.035297,
     "end_time": "2022-01-11T04:30:03.026616",
     "exception": false,
     "start_time": "2022-01-11T04:30:02.991319",
     "status": "completed"
    },
    "tags": []
   },
   "outputs": [],
   "source": [
    "import pickle\n",
    "pickle.dump(model,open('model4.pkl','wb'))\n",
    "model4=pickle.load(open('model4.pkl','rb'))"
   ]
  }
 ],
 "metadata": {
  "kernelspec": {
   "display_name": "Python 3",
   "language": "python",
   "name": "python3"
  },
  "language_info": {
   "codemirror_mode": {
    "name": "ipython",
    "version": 3
   },
   "file_extension": ".py",
   "mimetype": "text/x-python",
   "name": "python",
   "nbconvert_exporter": "python",
   "pygments_lexer": "ipython3",
   "version": "3.9.7"
  },
  "papermill": {
   "default_parameters": {},
   "duration": 14.365753,
   "end_time": "2022-01-11T04:30:03.764749",
   "environment_variables": {},
   "exception": null,
   "input_path": "__notebook__.ipynb",
   "output_path": "__notebook__.ipynb",
   "parameters": {},
   "start_time": "2022-01-11T04:29:49.398996",
   "version": "2.3.3"
  }
 },
 "nbformat": 4,
 "nbformat_minor": 5
}
